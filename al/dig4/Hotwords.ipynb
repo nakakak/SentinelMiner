{
 "cells": [
  {
   "cell_type": "code",
   "execution_count": 1,
   "id": "9b89c0fa-f591-450d-9c5a-0ff2b4174644",
   "metadata": {},
   "source": [
    "import pandas as pd\n",
    "\n",
    "df = pd.read_csv('/root/autodl-tmp/dataset_news/11.csv')\n",
    "import re\n",
    " 1. 删除无用列\n",
    "df = df.drop(columns=[\"Unnamed: 3\", \"Unnamed: 4\",\"Unnamed: 5\",\"Unnamed: 6\",\"Unnamed: 7\",\"Unnamed: 8\",\"Unnamed: 9\",\"Unnamed: 11\",\"Unnamed: 12\"], errors=\"ignore\")\n",
    "\n",
    " 2. 去除特殊字符和乱码\n",
    "def clean_text(text):\n",
    "    if pd.isna(text):\n",
    "        return \"\"\n",
    "     替换常见乱码\n",
    "    text = re.sub(r\"[®©°™Ø]\", \"\", text)\n",
    "     去除多余空格与非打印字符\n",
    "    text = re.sub(r\"\\s+\", \" \", text)\n",
    "    return text.strip()\n",
    "\n",
    "df[\"title\"] = df[\"title\"].apply(clean_text)\n",
    "df[\"content\"] = df[\"content\"].apply(clean_text)\n",
    "\n",
    " 3. 清除空内容行\n",
    "df = df[df[\"content\"].str.strip().astype(bool)]\n",
    "\n",
    " 4. 重置索引\n",
    "df = df.reset_index(drop=True)\n",
    "\n",
    " ✅ 结果展示\n",
    "\n",
    "df = df.drop(columns=[\"Unnamed: 10\",\"url\"], errors=\"ignore\")\n",
    "df = df.head(30)\n",
    "df.to_csv(\"processed_news.csv\", index=False)\n",
    "print(df.head())"
   ],
   "outputs": []
  },
  {
   "cell_type": "code",
   "execution_count": 2,
   "id": "8cdf6f72-345f-4ae2-a787-588ddd66ffa6",
   "metadata": {},
   "source": [
    "import pandas as pd\n",
    "import re\n",
    "from collections import Counter\n",
    "import spacy\n",
    "df = df.head(10)\n",
    "nlp = spacy.load(\"en_core_web_sm\")\n",
    "\n",
    " 分词 + 去除停用词 + 小写化\n",
    "def tokenize(text):\n",
    "    doc = nlp(text.lower())\n",
    "    tokens = [token.text for token in doc if token.is_alpha and not token.is_stop]\n",
    "    return tokens\n",
    "\n",
    " 合并所有新闻内容\n",
    "all_text = \" \".join(df[\"content\"].dropna())\n",
    "tokens = tokenize(all_text)\n",
    "\n",
    " 统计词频\n",
    "word_freq = Counter(tokens)\n",
    "\n",
    " 转换为 DataFrame，展示前 20 热词\n",
    "hot_words_df = pd.DataFrame(word_freq.most_common(20), columns=[\"word\", \"count\"])\n",
    "print(hot_words_df)\n"
   ],
   "outputs": []
  },
  {
   "cell_type": "code",
   "execution_count": 3,
   "id": "d7416078-ab19-4dca-9467-03dd57553132",
   "metadata": {},
   "source": [
    "import matplotlib.pyplot as plt\n",
    "\n",
    " 条形图\n",
    "hot_words_df.plot.bar(x=\"word\", y=\"count\", legend=False, color=\"orange\")\n",
    "plt.title(\"Top 20 Hot Words in News\")\n",
    "plt.xticks(rotation=45)\n",
    "plt.tight_layout()\n",
    "plt.show()"
   ],
   "outputs": []
  }
 ],
 "metadata": {
  "kernelspec": {
   "display_name": "Python 3 (ipykernel)",
   "language": "python",
   "name": "python3"
  },
  "language_info": {
   "codemirror_mode": {
    "name": "ipython",
    "version": 3
   },
   "file_extension": ".py",
   "mimetype": "text/x-python",
   "name": "python",
   "nbconvert_exporter": "python",
   "pygments_lexer": "ipython3",
   "version": "3.10.8"
  }
 },
 "nbformat": 4,
 "nbformat_minor": 5
}
